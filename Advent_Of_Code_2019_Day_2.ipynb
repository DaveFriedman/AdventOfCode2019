{
  "nbformat": 4,
  "nbformat_minor": 0,
  "metadata": {
    "colab": {
      "name": "Advent Of Code 2019 Day 2.ipynb",
      "provenance": [],
      "authorship_tag": "ABX9TyNKNcXGjivLmb4JLgj740Ab",
      "include_colab_link": true
    },
    "kernelspec": {
      "name": "python3",
      "display_name": "Python 3"
    }
  },
  "cells": [
    {
      "cell_type": "markdown",
      "metadata": {
        "id": "view-in-github",
        "colab_type": "text"
      },
      "source": [
        "<a href=\"https://colab.research.google.com/github/DaveFriedman/AdventOfCode2019/blob/master/Advent_Of_Code_2019_Day_2.ipynb\" target=\"_parent\"><img src=\"https://colab.research.google.com/assets/colab-badge.svg\" alt=\"Open In Colab\"/></a>"
      ]
    },
    {
      "cell_type": "code",
      "metadata": {
        "id": "vAKpFviw9zkM",
        "colab_type": "code",
        "colab": {}
      },
      "source": [
        "## https://adventofcode.com/2019/day/2"
      ],
      "execution_count": 0,
      "outputs": []
    },
    {
      "cell_type": "code",
      "metadata": {
        "id": "U2COAm6ZJ4DI",
        "colab_type": "code",
        "colab": {}
      },
      "source": [
        "puzzle = [1,0,0,3,1,1,2,3,1,3,4,3,1,5,0,3,2,6,1,19,1,\n",
        "         19,10,23,2,13,23,27,1,5,27,31,2,6,31,35,1,\n",
        "         6,35,39,2,39,9,43,1,5,43,47,1,13,47,51,1,10,\n",
        "         51,55,2,55,10,59,2,10,59,63,1,9,63,67,2,67,\n",
        "         13,71,1,71,6,75,2,6,75,79,1,5,79,83,2,83,9,87,\n",
        "         1,6,87,91,2,91,6,95,1,95,6,99,2,99,13,103,1,6,\n",
        "         103,107,1,2,107,111,1,111,9,0,99,2,14,0,0]\n",
        "puzzle[1] = 12\n",
        "puzzle[2] = 2"
      ],
      "execution_count": 0,
      "outputs": []
    },
    {
      "cell_type": "code",
      "metadata": {
        "id": "mK4BmKhS-VkM",
        "colab_type": "code",
        "outputId": "dc1ad16d-57e3-4efc-9421-361d2731abc8",
        "colab": {
          "base_uri": "https://localhost:8080/",
          "height": 34
        }
      },
      "source": [
        "## opcode test inputs:\n",
        "input0 = [1,9,10,3,2,3,11,0,99,30,40,50]\n",
        "input1 = [1,0,0,0,99]\n",
        "input2 = [2,3,0,3,99]\n",
        "input3 = [2,4,4,5,99,0]\n",
        "input4 = [1,1,1,4,99,5,6,0,99]\n",
        "\n",
        "\n",
        "def opcode(input):\n",
        "    i=0\n",
        "    while True:\n",
        "        if input[i] == 99:\n",
        "            break\n",
        "        elif input[i] not in (1,2,99):\n",
        "            print(\"error\")\n",
        "            break\n",
        "        elif input[i] == 1:\n",
        "            input[input[i+3]] = input[input[i+1]] + input[input[i+2]]\n",
        "        elif input[i] == 2:\n",
        "            input[input[i+3]] = input[input[i+1]] * input[input[i+2]]\n",
        "        i = i+4\n",
        "    return input\n",
        "\n",
        "print(opcode(puzzle)[0])"
      ],
      "execution_count": 4,
      "outputs": [
        {
          "output_type": "stream",
          "text": [
            "4138687\n"
          ],
          "name": "stdout"
        }
      ]
    },
    {
      "cell_type": "code",
      "metadata": {
        "id": "kFBKqJvf1N2Y",
        "colab_type": "code",
        "colab": {}
      },
      "source": [
        "## Part 2"
      ],
      "execution_count": 0,
      "outputs": []
    },
    {
      "cell_type": "code",
      "metadata": {
        "id": "ys5MbvDz1V3f",
        "colab_type": "code",
        "colab": {
          "base_uri": "https://localhost:8080/",
          "height": 51
        },
        "outputId": "2dd55d2a-11be-4387-912f-ea6b9913ccd6"
      },
      "source": [
        "output = 19690720\n",
        "result = 0\n",
        "\n",
        "for noun in range(100):\n",
        "    for verb in range(100):\n",
        "        #print(\"noun\", noun, \"verb\", verb)\n",
        "        puzzle = [1,0,0,3,1,1,2,3,1,3,4,3,1,5,0,3,2,6,1,19,1,\n",
        "                19,10,23,2,13,23,27,1,5,27,31,2,6,31,35,1,\n",
        "                6,35,39,2,39,9,43,1,5,43,47,1,13,47,51,1,10,\n",
        "                51,55,2,55,10,59,2,10,59,63,1,9,63,67,2,67,\n",
        "                13,71,1,71,6,75,2,6,75,79,1,5,79,83,2,83,9,87,\n",
        "                1,6,87,91,2,91,6,95,1,95,6,99,2,99,13,103,1,6,\n",
        "                103,107,1,2,107,111,1,111,9,0,99,2,14,0,0]\n",
        "        puzzle[1] = noun\n",
        "        puzzle[2] = verb\n",
        "        result = opcode(puzzle)[0]\n",
        "        #print(result, output)\n",
        "        if result == output:\n",
        "            finalNoun = noun\n",
        "            finalVerb = verb\n",
        "            break\n",
        "\n",
        "print(\"final noun:\", finalNoun, \"final verb:\", finalVerb)\n",
        "print(\"Answer:\", 100*finalNoun+finalVerb)"
      ],
      "execution_count": 21,
      "outputs": [
        {
          "output_type": "stream",
          "text": [
            "final noun: 66 final verb: 35\n",
            "Answer: 6635\n"
          ],
          "name": "stdout"
        }
      ]
    },
    {
      "cell_type": "code",
      "metadata": {
        "id": "gvEEVM1o5F3J",
        "colab_type": "code",
        "colab": {}
      },
      "source": [
        ""
      ],
      "execution_count": 0,
      "outputs": []
    }
  ]
}