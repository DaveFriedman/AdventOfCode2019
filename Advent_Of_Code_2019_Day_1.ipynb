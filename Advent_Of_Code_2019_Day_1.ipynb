{
  "nbformat": 4,
  "nbformat_minor": 0,
  "metadata": {
    "colab": {
      "name": "Advent Of Code 2019 Day 1.ipynb",
      "provenance": [],
      "include_colab_link": true
    },
    "kernelspec": {
      "name": "python3",
      "display_name": "Python 3"
    }
  },
  "cells": [
    {
      "cell_type": "markdown",
      "metadata": {
        "id": "view-in-github",
        "colab_type": "text"
      },
      "source": [
        "<a href=\"https://colab.research.google.com/github/DaveFriedman/AdventOfCode2019/blob/master/Advent_Of_Code_2019_Day_1.ipynb\" target=\"_parent\"><img src=\"https://colab.research.google.com/assets/colab-badge.svg\" alt=\"Open In Colab\"/></a>"
      ]
    },
    {
      "cell_type": "code",
      "metadata": {
        "id": "1jnBV6eEUpfh",
        "colab_type": "code",
        "colab": {}
      },
      "source": [
        "from math import floor"
      ],
      "execution_count": 0,
      "outputs": []
    },
    {
      "cell_type": "code",
      "metadata": {
        "id": "F9fYNLNrP-o0",
        "colab_type": "code",
        "colab": {}
      },
      "source": [
        "## The Elves quickly load you into a spacecraft and prepare to launch.\n",
        "## \n",
        "## At the first Go / No Go poll, every Elf is Go until the Fuel Counter-Upper. \n",
        "## They haven't determined the amount of fuel required yet.\n",
        "## \n",
        "## Fuel required to launch a given module is based on its mass. Specifically, \n",
        "## to find the fuel required for a module, take its mass, divide by three, \n",
        "## round down, and subtract 2.\n",
        "## \n",
        "## For example:\n",
        "## \n",
        "## For a mass of 12, divide by 3 and round down to get 4, \n",
        "## then subtract 2 to get 2.\n",
        "## For a mass of 14, dividing by 3 and rounding down still yields 4, \n",
        "## so the fuel required is also 2.\n",
        "## For a mass of 1969, the fuel required is 654.\n",
        "## For a mass of 100756, the fuel required is 33583.\n",
        "## The Fuel Counter-Upper needs to know the total fuel requirement. \n",
        "## To find it, individually calculate the fuel needed for the mass of each \n",
        "## module (your puzzle input), then add together all the fuel values.\n",
        "## \n",
        "## What is the sum of the fuel requirements for all of the modules on your spacecraft?"
      ],
      "execution_count": 0,
      "outputs": []
    },
    {
      "cell_type": "code",
      "metadata": {
        "id": "uoEQ-edvUt0-",
        "colab_type": "code",
        "colab": {}
      },
      "source": [
        "from math import floor"
      ],
      "execution_count": 0,
      "outputs": []
    },
    {
      "cell_type": "code",
      "metadata": {
        "id": "hjh4YIthVNLo",
        "colab_type": "code",
        "colab": {}
      },
      "source": [
        "modules = [80590,\n",
        "86055,\n",
        "92321,\n",
        "131464,\n",
        "73326,\n",
        "144607,\n",
        "124438,\n",
        "72589,\n",
        "96471,\n",
        "65712,\n",
        "107909,\n",
        "141197,\n",
        "131589,\n",
        "149356,\n",
        "53254,\n",
        "54742,\n",
        "94498,\n",
        "79631,\n",
        "146271,\n",
        "72983,\n",
        "59687,\n",
        "50571,\n",
        "89527,\n",
        "72175,\n",
        "72089,\n",
        "57808,\n",
        "143395,\n",
        "74329,\n",
        "109760,\n",
        "91254,\n",
        "79220,\n",
        "131610,\n",
        "74277,\n",
        "144080,\n",
        "107992,\n",
        "93817,\n",
        "112252,\n",
        "81157,\n",
        "74618,\n",
        "55479,\n",
        "66420,\n",
        "50055,\n",
        "53864,\n",
        "75143,\n",
        "131285,\n",
        "135352,\n",
        "63103,\n",
        "133893,\n",
        "142154,\n",
        "144706,\n",
        "128280,\n",
        "92891,\n",
        "61066,\n",
        "116696,\n",
        "132323,\n",
        "74805,\n",
        "75160,\n",
        "76285,\n",
        "114280,\n",
        "124461,\n",
        "86605,\n",
        "55868,\n",
        "117886,\n",
        "57035,\n",
        "125382,\n",
        "96755,\n",
        "50218,\n",
        "123795,\n",
        "141878,\n",
        "147718,\n",
        "65396,\n",
        "76043,\n",
        "53013,\n",
        "60583,\n",
        "140754,\n",
        "86844,\n",
        "99086,\n",
        "125917,\n",
        "139895,\n",
        "60719,\n",
        "76850,\n",
        "99552,\n",
        "130115,\n",
        "76143,\n",
        "113743,\n",
        "99243,\n",
        "132678,\n",
        "130983,\n",
        "137577,\n",
        "133118,\n",
        "70662,\n",
        "102478,\n",
        "132083,\n",
        "92287,\n",
        "147977,\n",
        "60584,\n",
        "91031,\n",
        "59910,\n",
        "147595, \n",
        "145263]"
      ],
      "execution_count": 0,
      "outputs": []
    },
    {
      "cell_type": "code",
      "metadata": {
        "id": "M09o7LmVVUUG",
        "colab_type": "code",
        "outputId": "df7bb56d-c8ce-401e-f347-88fab4d1301c",
        "colab": {
          "base_uri": "https://localhost:8080/",
          "height": 34
        }
      },
      "source": [
        "## Part 1\n",
        "\n",
        "def fuel_requirements(mass):\n",
        "    return floor(mass/3)-2\n",
        "\n",
        "fuel = 0\n",
        "for m in modules:\n",
        "    fuel = fuel + fuel_requirements(m)\n",
        "\n",
        "print(fuel)"
      ],
      "execution_count": 0,
      "outputs": [
        {
          "output_type": "stream",
          "text": [
            "3285627\n"
          ],
          "name": "stdout"
        }
      ]
    },
    {
      "cell_type": "code",
      "metadata": {
        "id": "97TLlbrBVk9B",
        "colab_type": "code",
        "outputId": "97587890-c200-454d-c45b-9a50d6f9b2a5",
        "colab": {
          "base_uri": "https://localhost:8080/",
          "height": 34
        }
      },
      "source": [
        "## Part 2\n",
        "def fuel_requirements_recursive(mass):\n",
        "    fuel = floor(mass/3)-2\n",
        "    if int(fuel) <= 0:\n",
        "        return 0\n",
        "    else:\n",
        "        return fuel + fuel_requirements_recursive(fuel)\n",
        "\n",
        "fuel = 0\n",
        "for m in modules:\n",
        "    fuel = fuel + fuel_requirements_recursive(m)\n",
        "\n",
        "print(fuel)"
      ],
      "execution_count": 0,
      "outputs": [
        {
          "output_type": "stream",
          "text": [
            "4925580\n"
          ],
          "name": "stdout"
        }
      ]
    },
    {
      "cell_type": "code",
      "metadata": {
        "id": "ZvQNvC1AVmLw",
        "colab_type": "code",
        "colab": {}
      },
      "source": [
        ""
      ],
      "execution_count": 0,
      "outputs": []
    }
  ]
}